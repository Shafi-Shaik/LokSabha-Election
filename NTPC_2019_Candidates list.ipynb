{
 "cells": [
  {
   "cell_type": "markdown",
   "id": "e45461e9",
   "metadata": {},
   "source": [
    "# RRB NTPC 2019 CBT1 list for all levels (2,3,5,6)\n"
   ]
  },
  {
   "cell_type": "markdown",
   "id": "78338430",
   "metadata": {},
   "source": [
    "## I have consolidated all the 4 different lists into single excel file and will analyze the excel file to find out interesting insights\n"
   ]
  },
  {
   "cell_type": "markdown",
   "id": "3e31aaba",
   "metadata": {},
   "source": [
    " <p>\n",
    "    <b> Source: </b> From Official RRB Secunderabad Website <br>\n",
    "</p>\n",
    "<strong>Level 2 data:<a> https://rrbsecunderabad.gov.in/pdf/RRB%20SC%20NTPC%20CBT-1%20RESULT%20LEVEL-2.pdf </a><br>\n",
    "    Level 3 data: <a>https://rrbsecunderabad.gov.in/pdf/RRB%20SC%20NTPC%20CBT-1%20RESULT%20LEVEL-3.pdf     </a><br>\n",
    "    Level 5 data: <a>https://rrbsecunderabad.gov.in/pdf/RRB%20SC%20NTPC%20CBT-1%20RESULT%20LEVEL-5.pdf </a><br>\n",
    "    Level 6 data: <a>https://rrbsecunderabad.gov.in/pdf/RRB%20SC%20NTPC%20CBT-1%20RESULT%20LEVEL-6.pdf </a>\n",
    "    </strong>\n",
    "\n"
   ]
  },
  {
   "cell_type": "code",
   "execution_count": 1,
   "id": "f2f6042b",
   "metadata": {},
   "outputs": [],
   "source": [
    "import pandas as pd\n",
    "import matplotlib as plt"
   ]
  },
  {
   "cell_type": "code",
   "execution_count": 2,
   "id": "ef02f6de",
   "metadata": {
    "scrolled": false
   },
   "outputs": [],
   "source": [
    "L2_List= pd.read_excel(\"NTPC_2019_FinalList.xlsx\", sheet_name=\"Level 2\")\n",
    "L3_List= pd.read_excel(\"NTPC_2019_FinalList.xlsx\", sheet_name=\"Level 3\")\n",
    "L5_List= pd.read_excel(\"NTPC_2019_FinalList.xlsx\", sheet_name=\"Level 5\")\n",
    "L6_List= pd.read_excel(\"NTPC_2019_FinalList.xlsx\", sheet_name=\"Level 6\")"
   ]
  },
  {
   "cell_type": "code",
   "execution_count": 3,
   "id": "893e2eac",
   "metadata": {},
   "outputs": [
    {
     "data": {
      "text/html": [
       "<div>\n",
       "<style scoped>\n",
       "    .dataframe tbody tr th:only-of-type {\n",
       "        vertical-align: middle;\n",
       "    }\n",
       "\n",
       "    .dataframe tbody tr th {\n",
       "        vertical-align: top;\n",
       "    }\n",
       "\n",
       "    .dataframe thead th {\n",
       "        text-align: right;\n",
       "    }\n",
       "</style>\n",
       "<table border=\"1\" class=\"dataframe\">\n",
       "  <thead>\n",
       "    <tr style=\"text-align: right;\">\n",
       "      <th></th>\n",
       "      <th>Data.Column5</th>\n",
       "      <th>Data.Column4</th>\n",
       "      <th>Data.Column3</th>\n",
       "      <th>Data.Column2</th>\n",
       "      <th>Data.Column1</th>\n",
       "    </tr>\n",
       "  </thead>\n",
       "  <tbody>\n",
       "    <tr>\n",
       "      <th>0</th>\n",
       "      <td>281191120775839</td>\n",
       "      <td>281191120177103</td>\n",
       "      <td>281191120132087</td>\n",
       "      <td>281191110857762</td>\n",
       "      <td>281191110804602</td>\n",
       "    </tr>\n",
       "    <tr>\n",
       "      <th>1</th>\n",
       "      <td>281191120796947</td>\n",
       "      <td>281191120796944</td>\n",
       "      <td>281191120794449</td>\n",
       "      <td>281191120785626</td>\n",
       "      <td>281191120781805</td>\n",
       "    </tr>\n",
       "    <tr>\n",
       "      <th>2</th>\n",
       "      <td>281191120827293</td>\n",
       "      <td>281191120824408</td>\n",
       "      <td>281191120819739</td>\n",
       "      <td>281191120818129</td>\n",
       "      <td>281191120801033</td>\n",
       "    </tr>\n",
       "  </tbody>\n",
       "</table>\n",
       "</div>"
      ],
      "text/plain": [
       "      Data.Column5     Data.Column4     Data.Column3     Data.Column2  \\\n",
       "0  281191120775839  281191120177103  281191120132087  281191110857762   \n",
       "1  281191120796947  281191120796944  281191120794449  281191120785626   \n",
       "2  281191120827293  281191120824408  281191120819739  281191120818129   \n",
       "\n",
       "      Data.Column1  \n",
       "0  281191110804602  \n",
       "1  281191120781805  \n",
       "2  281191120801033  "
      ]
     },
     "execution_count": 3,
     "metadata": {},
     "output_type": "execute_result"
    }
   ],
   "source": [
    "L2_List.head(3)"
   ]
  },
  {
   "cell_type": "code",
   "execution_count": 4,
   "id": "d237bff1",
   "metadata": {},
   "outputs": [
    {
     "data": {
      "text/html": [
       "<div>\n",
       "<style scoped>\n",
       "    .dataframe tbody tr th:only-of-type {\n",
       "        vertical-align: middle;\n",
       "    }\n",
       "\n",
       "    .dataframe tbody tr th {\n",
       "        vertical-align: top;\n",
       "    }\n",
       "\n",
       "    .dataframe thead th {\n",
       "        text-align: right;\n",
       "    }\n",
       "</style>\n",
       "<table border=\"1\" class=\"dataframe\">\n",
       "  <thead>\n",
       "    <tr style=\"text-align: right;\">\n",
       "      <th></th>\n",
       "      <th>Data.Column1</th>\n",
       "      <th>Data.Column2</th>\n",
       "      <th>Data.Column3</th>\n",
       "      <th>Data.Column4</th>\n",
       "      <th>Data.Column5</th>\n",
       "    </tr>\n",
       "  </thead>\n",
       "  <tbody>\n",
       "    <tr>\n",
       "      <th>0</th>\n",
       "      <td>281191110804602</td>\n",
       "      <td>281191110857762</td>\n",
       "      <td>281191120132087</td>\n",
       "      <td>281191120177103</td>\n",
       "      <td>281191120770488</td>\n",
       "    </tr>\n",
       "    <tr>\n",
       "      <th>1</th>\n",
       "      <td>281191120771930</td>\n",
       "      <td>281191120775839</td>\n",
       "      <td>281191120781805</td>\n",
       "      <td>281191120793483</td>\n",
       "      <td>281191120794449</td>\n",
       "    </tr>\n",
       "    <tr>\n",
       "      <th>2</th>\n",
       "      <td>281191120796944</td>\n",
       "      <td>281191120796947</td>\n",
       "      <td>281191120799574</td>\n",
       "      <td>281191120801033</td>\n",
       "      <td>281191120805021</td>\n",
       "    </tr>\n",
       "  </tbody>\n",
       "</table>\n",
       "</div>"
      ],
      "text/plain": [
       "      Data.Column1     Data.Column2     Data.Column3     Data.Column4  \\\n",
       "0  281191110804602  281191110857762  281191120132087  281191120177103   \n",
       "1  281191120771930  281191120775839  281191120781805  281191120793483   \n",
       "2  281191120796944  281191120796947  281191120799574  281191120801033   \n",
       "\n",
       "      Data.Column5  \n",
       "0  281191120770488  \n",
       "1  281191120794449  \n",
       "2  281191120805021  "
      ]
     },
     "execution_count": 4,
     "metadata": {},
     "output_type": "execute_result"
    }
   ],
   "source": [
    "L3_List.head(3)"
   ]
  },
  {
   "cell_type": "code",
   "execution_count": 5,
   "id": "60be41bf",
   "metadata": {
    "scrolled": true
   },
   "outputs": [
    {
     "data": {
      "text/html": [
       "<div>\n",
       "<style scoped>\n",
       "    .dataframe tbody tr th:only-of-type {\n",
       "        vertical-align: middle;\n",
       "    }\n",
       "\n",
       "    .dataframe tbody tr th {\n",
       "        vertical-align: top;\n",
       "    }\n",
       "\n",
       "    .dataframe thead th {\n",
       "        text-align: right;\n",
       "    }\n",
       "</style>\n",
       "<table border=\"1\" class=\"dataframe\">\n",
       "  <thead>\n",
       "    <tr style=\"text-align: right;\">\n",
       "      <th></th>\n",
       "      <th>Data.Column1</th>\n",
       "      <th>Data.Column2</th>\n",
       "      <th>Data.Column3</th>\n",
       "      <th>Data.Column4</th>\n",
       "      <th>Data.Column5</th>\n",
       "    </tr>\n",
       "  </thead>\n",
       "  <tbody>\n",
       "    <tr>\n",
       "      <th>0</th>\n",
       "      <td>281191110804602</td>\n",
       "      <td>281191110857762</td>\n",
       "      <td>281191110999607</td>\n",
       "      <td>281191111015640</td>\n",
       "      <td>281191120099308</td>\n",
       "    </tr>\n",
       "    <tr>\n",
       "      <th>1</th>\n",
       "      <td>281191120130732</td>\n",
       "      <td>281191120130804</td>\n",
       "      <td>281191120132087</td>\n",
       "      <td>281191120177103</td>\n",
       "      <td>281191120767739</td>\n",
       "    </tr>\n",
       "    <tr>\n",
       "      <th>2</th>\n",
       "      <td>281191120770369</td>\n",
       "      <td>281191120770836</td>\n",
       "      <td>281191120771930</td>\n",
       "      <td>281191120772447</td>\n",
       "      <td>281191120781805</td>\n",
       "    </tr>\n",
       "  </tbody>\n",
       "</table>\n",
       "</div>"
      ],
      "text/plain": [
       "      Data.Column1     Data.Column2     Data.Column3     Data.Column4  \\\n",
       "0  281191110804602  281191110857762  281191110999607  281191111015640   \n",
       "1  281191120130732  281191120130804  281191120132087  281191120177103   \n",
       "2  281191120770369  281191120770836  281191120771930  281191120772447   \n",
       "\n",
       "      Data.Column5  \n",
       "0  281191120099308  \n",
       "1  281191120767739  \n",
       "2  281191120781805  "
      ]
     },
     "execution_count": 5,
     "metadata": {},
     "output_type": "execute_result"
    }
   ],
   "source": [
    "L5_List.head(3)"
   ]
  },
  {
   "cell_type": "code",
   "execution_count": 6,
   "id": "2e887db6",
   "metadata": {},
   "outputs": [
    {
     "data": {
      "text/html": [
       "<div>\n",
       "<style scoped>\n",
       "    .dataframe tbody tr th:only-of-type {\n",
       "        vertical-align: middle;\n",
       "    }\n",
       "\n",
       "    .dataframe tbody tr th {\n",
       "        vertical-align: top;\n",
       "    }\n",
       "\n",
       "    .dataframe thead th {\n",
       "        text-align: right;\n",
       "    }\n",
       "</style>\n",
       "<table border=\"1\" class=\"dataframe\">\n",
       "  <thead>\n",
       "    <tr style=\"text-align: right;\">\n",
       "      <th></th>\n",
       "      <th>Data.Column1</th>\n",
       "      <th>Data.Column2</th>\n",
       "      <th>Data.Column3</th>\n",
       "      <th>Data.Column4</th>\n",
       "      <th>Data.Column5</th>\n",
       "    </tr>\n",
       "  </thead>\n",
       "  <tbody>\n",
       "    <tr>\n",
       "      <th>0</th>\n",
       "      <td>281191110804602</td>\n",
       "      <td>281191110857762</td>\n",
       "      <td>281191110999607</td>\n",
       "      <td>281191120132087</td>\n",
       "      <td>281191120177103</td>\n",
       "    </tr>\n",
       "    <tr>\n",
       "      <th>1</th>\n",
       "      <td>281191120767739</td>\n",
       "      <td>281191120770369</td>\n",
       "      <td>281191120771930</td>\n",
       "      <td>281191120781805</td>\n",
       "      <td>281191120793483</td>\n",
       "    </tr>\n",
       "    <tr>\n",
       "      <th>2</th>\n",
       "      <td>281191120794449</td>\n",
       "      <td>281191120796944</td>\n",
       "      <td>281191120796947</td>\n",
       "      <td>281191120799574</td>\n",
       "      <td>281191120801033</td>\n",
       "    </tr>\n",
       "  </tbody>\n",
       "</table>\n",
       "</div>"
      ],
      "text/plain": [
       "      Data.Column1     Data.Column2     Data.Column3     Data.Column4  \\\n",
       "0  281191110804602  281191110857762  281191110999607  281191120132087   \n",
       "1  281191120767739  281191120770369  281191120771930  281191120781805   \n",
       "2  281191120794449  281191120796944  281191120796947  281191120799574   \n",
       "\n",
       "      Data.Column5  \n",
       "0  281191120177103  \n",
       "1  281191120793483  \n",
       "2  281191120801033  "
      ]
     },
     "execution_count": 6,
     "metadata": {},
     "output_type": "execute_result"
    }
   ],
   "source": [
    "L6_List.head(3)"
   ]
  },
  {
   "cell_type": "markdown",
   "id": "50e4496b",
   "metadata": {},
   "source": [
    "<h5> since all the columns are different values and do not correlate to each other, would merge in to single column </h5>"
   ]
  },
  {
   "cell_type": "code",
   "execution_count": 43,
   "id": "6a95bc42",
   "metadata": {},
   "outputs": [
    {
     "ename": "TypeError",
     "evalue": "sum() takes at most 2 arguments (4 given)",
     "output_type": "error",
     "traceback": [
      "\u001b[1;31m---------------------------------------------------------------------------\u001b[0m",
      "\u001b[1;31mTypeError\u001b[0m                                 Traceback (most recent call last)",
      "\u001b[1;32m~\\AppData\\Local\\Temp/ipykernel_16176/3562979747.py\u001b[0m in \u001b[0;36m<module>\u001b[1;34m\u001b[0m\n\u001b[1;32m----> 1\u001b[1;33m \u001b[0msum\u001b[0m\u001b[1;33m(\u001b[0m\u001b[0mL2_List\u001b[0m\u001b[1;33m.\u001b[0m\u001b[0msize\u001b[0m\u001b[1;33m,\u001b[0m \u001b[0mL3_List\u001b[0m\u001b[1;33m.\u001b[0m\u001b[0msize\u001b[0m\u001b[1;33m,\u001b[0m \u001b[0mL5_List\u001b[0m\u001b[1;33m.\u001b[0m\u001b[0msize\u001b[0m\u001b[1;33m,\u001b[0m \u001b[0mL6_List\u001b[0m\u001b[1;33m.\u001b[0m\u001b[0msize\u001b[0m\u001b[1;33m)\u001b[0m\u001b[1;33m\u001b[0m\u001b[1;33m\u001b[0m\u001b[0m\n\u001b[0m",
      "\u001b[1;31mTypeError\u001b[0m: sum() takes at most 2 arguments (4 given)"
     ]
    }
   ],
   "source": [
    "sum(L2_List.size, L3_List.size, L5_List.size, L6_List.size)"
   ]
  },
  {
   "cell_type": "code",
   "execution_count": null,
   "id": "f1de3491",
   "metadata": {},
   "outputs": [],
   "source": []
  },
  {
   "cell_type": "code",
   "execution_count": null,
   "id": "7d3e10b0",
   "metadata": {},
   "outputs": [],
   "source": []
  },
  {
   "cell_type": "code",
   "execution_count": null,
   "id": "6079f36d",
   "metadata": {},
   "outputs": [],
   "source": []
  },
  {
   "cell_type": "code",
   "execution_count": null,
   "id": "c1984c56",
   "metadata": {},
   "outputs": [],
   "source": []
  },
  {
   "cell_type": "code",
   "execution_count": null,
   "id": "daa7e519",
   "metadata": {},
   "outputs": [],
   "source": []
  },
  {
   "cell_type": "code",
   "execution_count": null,
   "id": "85c0602e",
   "metadata": {},
   "outputs": [],
   "source": []
  },
  {
   "cell_type": "code",
   "execution_count": null,
   "id": "ad035de7",
   "metadata": {},
   "outputs": [],
   "source": []
  },
  {
   "cell_type": "code",
   "execution_count": null,
   "id": "fb9c08df",
   "metadata": {},
   "outputs": [],
   "source": []
  }
 ],
 "metadata": {
  "kernelspec": {
   "display_name": "Python 3 (ipykernel)",
   "language": "python",
   "name": "python3"
  },
  "language_info": {
   "codemirror_mode": {
    "name": "ipython",
    "version": 3
   },
   "file_extension": ".py",
   "mimetype": "text/x-python",
   "name": "python",
   "nbconvert_exporter": "python",
   "pygments_lexer": "ipython3",
   "version": "3.9.7"
  }
 },
 "nbformat": 4,
 "nbformat_minor": 5
}
